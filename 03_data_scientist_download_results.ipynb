{
  "cells": [
    {
      "cell_type": "markdown",
      "metadata": {
        "id": "view-in-github",
        "colab_type": "text"
      },
      "source": [
        "<a href=\"https://colab.research.google.com/github/AP2324/trabajo-equipo-9/blob/main/03_data_scientist_download_results.ipynb\" target=\"_parent\"><img src=\"https://colab.research.google.com/assets/colab-badge.svg\" alt=\"Open In Colab\"/></a>"
      ]
    },
    {
      "cell_type": "code",
      "execution_count": null,
      "id": "21b7d1b6",
      "metadata": {
        "id": "21b7d1b6"
      },
      "outputs": [],
      "source": [
        "import syft as sy\n",
        "import jax\n",
        "from jax.example_libraries import stax\n",
        "from jax.example_libraries.stax import Dense, Relu, LogSoftmax\n",
        "from jax import random\n",
        "import jax.numpy as jnp\n",
        "from mnist_dataset import mnist"
      ]
    },
    {
      "cell_type": "code",
      "execution_count": null,
      "id": "388c563d",
      "metadata": {
        "id": "388c563d",
        "outputId": "871d3ce0-6253-44ad-a6ff-ce19e2388938"
      },
      "outputs": [
        {
          "name": "stdout",
          "output_type": "stream",
          "text": [
            "Staging Protocol Changes...\n",
            "Data Migrated to latest version !!!\n",
            "Logged into <mnist-domain: High side Domain> as <sheldon17@caltech.edu>\n"
          ]
        },
        {
          "data": {
            "text/html": [
              "<div class=\"alert-warning\" style=\"padding:5px;\"><strong>SyftWarning</strong>: You are using a default password. Please change the password using `[your_client].me.set_password([new_password])`.</div><br />"
            ],
            "text/plain": [
              "SyftWarning: You are using a default password. Please change the password using `[your_client].me.set_password([new_password])`."
            ]
          },
          "metadata": {},
          "output_type": "display_data"
        }
      ],
      "source": [
        "# Lanza un nodo de PySyft llamado 'mnist-domain' en modo de desarrollo.\n",
        "node = sy.orchestra.launch(name=\"mnist-domain\", dev_mode=True)\n",
        "# El DS accede a los conjuntos de datos disponibles en el dominio.\n",
        "ds_client = node.login(email=\"sheldon17@caltech.edu\", password=\"changethis\")"
      ]
    },
    {
      "cell_type": "markdown",
      "id": "47c6909f",
      "metadata": {
        "id": "47c6909f"
      },
      "source": [
        "## Después de que el DO haya ejecutado el código y depositado los resultados, el DS los descarga"
      ]
    },
    {
      "cell_type": "code",
      "execution_count": null,
      "id": "71c0afb7",
      "metadata": {
        "id": "71c0afb7"
      },
      "outputs": [],
      "source": [
        "# Accede a los activos dentro del conjunto de datos; en este caso, imágenes y etiquetas de entrenamiento.\n",
        "datasets = ds_client.datasets.get_all()\n",
        "assets = datasets[0].assets\n",
        "assert len(assets) == 2 # Asegura que hay dos activos: imágenes y etiquetas."
      ]
    },
    {
      "cell_type": "code",
      "execution_count": null,
      "id": "78c927b1",
      "metadata": {
        "id": "78c927b1"
      },
      "outputs": [],
      "source": [
        "# Extrae los punteros a las imágenes y etiquetas de entrenamiento\n",
        "training_images = assets[0]\n",
        "training_labels = assets[1]"
      ]
    },
    {
      "cell_type": "code",
      "execution_count": null,
      "id": "9ad3db23",
      "metadata": {
        "id": "9ad3db23",
        "outputId": "5edea4ed-2a16-4639-b9ac-c5dca47d8e09"
      },
      "outputs": [
        {
          "data": {
            "text/html": [
              "\n",
              "<style>\n",
              "  body[data-jp-theme-light='false'] {\n",
              "        --primary-color: #111111;\n",
              "        --secondary-color: #212121;\n",
              "        --tertiary-color: #CFCDD6;\n",
              "        --button-color: #111111;\n",
              "  }\n",
              "\n",
              "  body {\n",
              "        --primary-color: #ffffff;\n",
              "        --secondary-color: #f5f5f5;\n",
              "        --tertiary-color: #000000de;\n",
              "        --button-color: #d1d5db;\n",
              "  }\n",
              "\n",
              "  .header-1 {\n",
              "        font-style: normal;\n",
              "        font-weight: 600;\n",
              "        font-size: 2.0736em;\n",
              "        line-height: 100%;\n",
              "        leading-trim: both;\n",
              "        text-edge: cap;\n",
              "        color: #17161D;\n",
              "    }\n",
              "\n",
              "  .header-2 {\n",
              "        font-style: normal;\n",
              "        font-weight: 600;\n",
              "        font-size: 1.728em;\n",
              "        line-height: 100%;\n",
              "        leading-trim: both;\n",
              "        text-edge: cap;\n",
              "        color: #17161D;\n",
              "    }\n",
              "\n",
              "  .header-3 {\n",
              "        font-style: normal;\n",
              "        font-weight: 600;\n",
              "        font-size:  1.44em;\n",
              "        line-height: 100%;\n",
              "        leading-trim: both;\n",
              "        text-edge: cap;\n",
              "        color: var(--tertiary-color);\n",
              "    }\n",
              "\n",
              "  .header-4 {\n",
              "        font-style: normal;\n",
              "        font-weight: 600;\n",
              "        font-size: 1.2em;\n",
              "        line-height: 100%;\n",
              "        leading-trim: both;\n",
              "        text-edge: cap;\n",
              "        color: #17161D;\n",
              "    }\n",
              "\n",
              "    .paragraph {\n",
              "        font-style: normal;\n",
              "        font-weight: 400;\n",
              "        font-size: 14px;\n",
              "        line-height: 100%;\n",
              "        leading-trim: both;\n",
              "        text-edge: cap;\n",
              "        color: #2E2B3B;\n",
              "    }\n",
              "\n",
              "    .paragraph-sm {\n",
              "        font-family: 'Roboto';\n",
              "        font-style: normal;\n",
              "        font-weight: 400;\n",
              "        font-size: 11.62px;\n",
              "        line-height: 100%;\n",
              "        leading-trim: both;\n",
              "        text-edge: cap;\n",
              "        color: #2E2B3B;\n",
              "    }\n",
              "    .code-text {\n",
              "        font-family: 'Consolas';\n",
              "        font-style: normal;\n",
              "        font-weight: 400;\n",
              "        font-size: 13px;\n",
              "        line-height: 130%;\n",
              "        leading-trim: both;\n",
              "        text-edge: cap;\n",
              "        color: #2E2B3B;\n",
              "    }\n",
              "\n",
              "    .numbering-entry { display: none }\n",
              "\n",
              "    /* Tooltip container */\n",
              "    .tooltip {\n",
              "        position: relative;\n",
              "        display: inline-block;\n",
              "        border-bottom: 1px dotted black; /* If you want dots under the hoverable text */\n",
              "    }\n",
              "\n",
              "    /* Tooltip text */\n",
              "    .tooltip .tooltiptext {\n",
              "        visibility: hidden;\n",
              "        width: 120px;\n",
              "        background-color: black;\n",
              "        color: #fff;\n",
              "        text-align: center;\n",
              "        padding: 5px 0;\n",
              "        border-radius: 6px;\n",
              "\n",
              "        /* Position the tooltip text - see examples below! */\n",
              "        position: absolute;\n",
              "        z-index: 1;\n",
              "    }\n",
              "\n",
              "    .repr-cell {\n",
              "      padding-top: 20px;\n",
              "    }\n",
              "\n",
              "    .text-bold {\n",
              "        font-weight: bold;\n",
              "    }\n",
              "\n",
              "    .pr-8 {\n",
              "        padding-right: 8px;\n",
              "    }\n",
              "    .pt-8 {\n",
              "        padding-top: 8px;\n",
              "    }\n",
              "    .pl-8 {\n",
              "        padding-left: 8px;\n",
              "    }\n",
              "    .pb-8 {\n",
              "        padding-bottom: 8px;\n",
              "    }\n",
              "\n",
              "    .py-25{\n",
              "        padding-top: 25px;\n",
              "        padding-bottom: 25px;\n",
              "    }\n",
              "\n",
              "    .flex {\n",
              "        display: flex;\n",
              "    }\n",
              "\n",
              "    .gap-10 {\n",
              "        gap: 10px;\n",
              "    }\n",
              "    .items-center{\n",
              "        align-items: center;\n",
              "    }\n",
              "\n",
              "    .folder-icon {\n",
              "        color: var(--tertiary-color);\n",
              "    }\n",
              "\n",
              "    .search-input{\n",
              "        display: flex;\n",
              "        flex-direction: row;\n",
              "        align-items: center;\n",
              "        padding: 8px 12px;\n",
              "        width: 343px;\n",
              "        height: 24px;\n",
              "        /* Lt On Surface/Low */\n",
              "        background-color: var(--secondary-color);\n",
              "        border-radius: 30px;\n",
              "\n",
              "        /* Lt On Surface/Highest */\n",
              "        color: var(--tertiary-color);\n",
              "        border:none;\n",
              "        /* Inside auto layout */\n",
              "        flex: none;\n",
              "        order: 0;\n",
              "        flex-grow: 0;\n",
              "    }\n",
              "    .search-input:focus {\n",
              "        outline: none;\n",
              "    }\n",
              "        .search-input:focus::placeholder,\n",
              "    .search-input::placeholder { /* Chrome, Firefox, Opera, Safari 10.1+ */\n",
              "        color: var(--tertiary-color);\n",
              "        opacity: 1; /* Firefox */\n",
              "    }\n",
              "\n",
              "    .search-button{\n",
              "        /* Search */\n",
              "        leading-trim: both;\n",
              "        text-edge: cap;\n",
              "        display: flex;\n",
              "        align-items: center;\n",
              "        text-align: center;\n",
              "\n",
              "        /* Primary/On Light */\n",
              "        background-color: var(--button-color);\n",
              "        color: var(--tertiary-color);\n",
              "\n",
              "        border-radius: 30px;\n",
              "        border-color: var(--secondary-color);\n",
              "        border-style: solid;\n",
              "        box-shadow: rgba(60, 64, 67, 0.3) 0px 1px 2px 0px, rgba(60, 64, 67, 0.15) 0px 1px 3px 1px;\n",
              "        cursor: pointer;\n",
              "        /* Inside auto layout */\n",
              "        flex: none;\n",
              "        order: 1;\n",
              "        flex-grow: 0;\n",
              "    }\n",
              "\n",
              "    .grid-table19f659b9d7754813b9884c77ad189305 {\n",
              "        display:grid;\n",
              "        grid-template-columns: 1fr repeat(28, 1fr);\n",
              "        grid-template-rows: repeat(2, 1fr);\n",
              "        overflow-x: auto;\n",
              "    }\n",
              "\n",
              "    .grid-std-cells {\n",
              "        grid-column: span 4;\n",
              "\n",
              "    }\n",
              "    .grid-index-cells {\n",
              "        grid-column: span 1;\n",
              "        /* tmp fix to make left col stand out (fix with font-family) */\n",
              "        font-weight: 600;\n",
              "        background-color: var(--secondary-color) !important;\n",
              "        color: var(--tertiary-color);\n",
              "    }\n",
              "\n",
              "    .grid-header {\n",
              "        /* Auto layout */\n",
              "        display: flex;\n",
              "        flex-direction: column;\n",
              "        align-items: center;\n",
              "        padding: 6px 4px;\n",
              "\n",
              "        /* Lt On Surface/Surface */\n",
              "        /* Lt On Surface/High */\n",
              "        border: 1px solid #CFCDD6;\n",
              "        /* tmp fix to make header stand out (fix with font-family) */\n",
              "        font-weight: 600;\n",
              "        background-color: var(--secondary-color);\n",
              "        color: var(--tertiary-color);\n",
              "    }\n",
              "\n",
              "    .grid-row {\n",
              "        display: flex;\n",
              "        flex-direction: column;\n",
              "        align-items: flex-start;\n",
              "        padding: 6px 4px;\n",
              "        overflow: hidden;\n",
              "        border: 1px solid #CFCDD6;\n",
              "        background-color: var(--primary-color);\n",
              "        color: var(--tertiary-color);\n",
              "    }\n",
              "\n",
              "    .badge {\n",
              "        code-text;\n",
              "        border-radius: 30px;\n",
              "    }\n",
              "\n",
              "    .badge-blue {\n",
              "        badge;\n",
              "        background-color: #C2DEF0;\n",
              "        color: #1F567A;\n",
              "    }\n",
              "\n",
              "    .badge-purple {\n",
              "        badge;\n",
              "        background-color: #C9CFE8;\n",
              "        color: #373B7B;\n",
              "    }\n",
              "\n",
              "    .badge-green {\n",
              "        badge;\n",
              "\n",
              "        /* Success/Container */\n",
              "        background-color: #D5F1D5;\n",
              "        color: #256B24;\n",
              "    }\n",
              "\n",
              "    .badge-red {\n",
              "        badge;\n",
              "        background-color: #F2D9DE;\n",
              "        color: #9B2737;\n",
              "    }\n",
              "\n",
              "    .badge-gray {\n",
              "        badge;\n",
              "        background-color: #ECEBEF;\n",
              "        color: #2E2B3B;\n",
              "    }\n",
              "    .paginationContainer{\n",
              "        width: 100%;\n",
              "        height: 30px;\n",
              "        display: flex;\n",
              "        justify-content: center;\n",
              "        gap: 8px;\n",
              "        padding: 5px;\n",
              "        color: var(--tertiary-color);\n",
              "    }\n",
              "\n",
              "    .page{\n",
              "        color: black;\n",
              "        font-weight: bold;\n",
              "        color: var(--tertiary-color);\n",
              "    }\n",
              "    .page:hover {\n",
              "      color: #38bdf8;\n",
              "      cursor: pointer;\n",
              "    }\n",
              "    .clipboard:hover{\n",
              "        cursor: pointer;\n",
              "        color: var(--tertiary-color);\n",
              "    }\n",
              "\n",
              "    .search-field {\n",
              "        display: flex;\n",
              "        align-items: center;\n",
              "        border-radius: 30px;\n",
              "        background-color: var(--secondary-color);\n",
              "    }\n",
              "\n",
              "    .syft-dropdown {\n",
              "        margin: 5px;\n",
              "        margin-left: 5px;\n",
              "        position: relative;\n",
              "        display: inline-block;\n",
              "        text-align: center;\n",
              "        background-color: var(--button-color);\n",
              "        min-width: 100px;\n",
              "        padding: 2px;\n",
              "        border-radius: 30px;\n",
              "    }\n",
              "\n",
              "    .syft-dropdown:hover {\n",
              "        cursor: pointer;\n",
              "    }\n",
              "    .syft-dropdown-content {\n",
              "        margin-top:26px;\n",
              "        display: none;\n",
              "        position: absolute;\n",
              "        min-width: 100px;\n",
              "        box-shadow: 0px 8px 16px 0px rgba(0,0,0,0.2);\n",
              "        padding: 12px 6px;\n",
              "        z-index: 1;\n",
              "        background-color: var(--primary-color);\n",
              "        color: var(--tertiary-color);\n",
              "    }\n",
              "    .dd-options {\n",
              "        padding-top: 4px;\n",
              "    }\n",
              "    .dd-options:first-of-type {\n",
              "        padding-top: 0px;\n",
              "    }\n",
              "\n",
              "    .dd-options:hover {\n",
              "        cursor: pointer;\n",
              "        background: #d1d5db;\n",
              "    }\n",
              "    .arrow {\n",
              "        border: solid black;\n",
              "        border-width: 0 3px 3px 0;\n",
              "        display: inline-block;\n",
              "        padding: 3px;\n",
              "    }\n",
              "    .down {\n",
              "        transform: rotate(45deg);\n",
              "        -webkit-transform: rotate(45deg);\n",
              "    }\n",
              "</style>\n",
              "\n",
              "\n",
              "    <div style='margin-top:15px;'>\n",
              "        <div class='flex gap-10' style='align-items: center;'>\n",
              "            <div class='folder-icon'><svg width=\"32\" height=\"32\" viewBox=\"0 0 32 32\" fill=\"none\" xmlns=\"http://www.w3.org/2000/svg\"> <path d=\"M28 6H4C3.73478 6 3.48043 6.10536 3.29289 6.29289C3.10536 6.48043 3 6.73478 3 7V24C3 24.5304 3.21071 25.0391 3.58579 25.4142C3.96086 25.7893 4.46957 26 5 26H27C27.5304 26 28.0391 25.7893 28.4142 25.4142C28.7893 25.0391 29 24.5304 29 24V7C29 6.73478 28.8946 6.48043 28.7071 6.29289C28.5196 6.10536 28.2652 6 28 6ZM5 14H10V18H5V14ZM12 14H27V18H12V14ZM27 8V12H5V8H27ZM5 20H10V24H5V20ZM27 24H12V20H27V24Z\" fill=\"#343330\"/></svg></div>\n",
              "            <div><p class='header-3'>UserCode List</p></div>\n",
              "        </div>\n",
              "\n",
              "            <div style=\"padding-top: 16px; display:flex;justify-content: space-between; align-items: center;\">\n",
              "                <div class='pt-25 gap-10' style=\"display:flex;\">\n",
              "                    <div class=\"search-field\">\n",
              "                        <div id='search-menu19f659b9d7754813b9884c77ad189305' class=\"syft-dropdown\" onclick=\"{\n",
              "                            let doc = document.getElementById('search-dropdown-content19f659b9d7754813b9884c77ad189305')\n",
              "                            if (doc.style.display === 'block'){\n",
              "                                doc.style.display = 'none'\n",
              "                            } else {\n",
              "                                doc.style.display = 'block'\n",
              "                            }\n",
              "                            }\">\n",
              "                            <div id='search-dropdown-content19f659b9d7754813b9884c77ad189305' class='syft-dropdown-content'></div>\n",
              "                            <script>\n",
              "                                var element19f659b9d7754813b9884c77ad189305 = [{\"id\": {\"value\": \"c00bce9cb13c44099f0715bf75621d87\", \"type\": \"clipboard\"}, \"Input Policy\": \"ExactMatch\", \"Output Policy\": \"OutputPolicyExecuteOnce\", \"Function name\": \"mnist_3_linear_layers\", \"User verify key\": {\"value\": \"76fb602e6c756ba57b31f20f49c425486cb7f964b19433c1739944260a96ce43\", \"type\": \"clipboard\"}, \"Status\": {\"value\": \"approved\", \"type\": \"badge-green\"}, \"Submit time\": \"2024-05-15 12:35:14\"}]\n",
              "                                var page_size19f659b9d7754813b9884c77ad189305 = 1\n",
              "                                var pageIndex19f659b9d7754813b9884c77ad189305 = 1\n",
              "                                var paginatedElements19f659b9d7754813b9884c77ad189305 = []\n",
              "                                var activeFilter19f659b9d7754813b9884c77ad189305;\n",
              "\n",
              "                                function buildDropDownMenu(elements){\n",
              "                                    let init_filter;\n",
              "                                    let menu = document.getElementById('search-dropdown-content19f659b9d7754813b9884c77ad189305')\n",
              "                                    if (elements.length > 0) {\n",
              "                                        let sample = elements[0]\n",
              "                                        for (const attr in sample) {\n",
              "                                            if (typeof init_filter === 'undefined'){\n",
              "                                                init_filter = attr;\n",
              "                                            }\n",
              "                                            let content = document.createElement('div');\n",
              "                                            content.onclick = function(event) {\n",
              "                                                event.stopPropagation()\n",
              "                                                document.getElementById('menu-active-filter19f659b9d7754813b9884c77ad189305').innerText = attr;\n",
              "                                                activeFilter19f659b9d7754813b9884c77ad189305 = attr;\n",
              "                                                document.getElementById(\n",
              "                                                    'search-dropdown-content19f659b9d7754813b9884c77ad189305'\n",
              "                                                ).style.display= 'none';\n",
              "                                            }\n",
              "                                            content.classList.add(\"dd-options\");\n",
              "                                            content.innerText = attr;\n",
              "                                            menu.appendChild(content);\n",
              "                                        }\n",
              "                                    } else {\n",
              "                                        let init_filter = '---'\n",
              "                                    }\n",
              "                                    let dropdown_field = document.getElementById('search-menu19f659b9d7754813b9884c77ad189305')\n",
              "                                    let span = document.createElement('span')\n",
              "                                    span.setAttribute('id', 'menu-active-filter19f659b9d7754813b9884c77ad189305')\n",
              "                                    span.innerText = init_filter\n",
              "                                    activeFilter19f659b9d7754813b9884c77ad189305 = init_filter;\n",
              "                                    dropdown_field.appendChild(span)\n",
              "                                }\n",
              "\n",
              "                                buildDropDownMenu(element19f659b9d7754813b9884c77ad189305)\n",
              "                            </script>\n",
              "                        </div>\n",
              "                        <input id='searchKey19f659b9d7754813b9884c77ad189305' class='search-input' placeholder='Enter search here ...'  />\n",
              "                    </div>\n",
              "                    <button class='search-button' type=\"button\" onclick=\"searchGrid19f659b9d7754813b9884c77ad189305(element19f659b9d7754813b9884c77ad189305)\">\n",
              "                        <svg width=\"11\" height=\"10\" viewBox=\"0 0 11 10\" fill=\"none\" xmlns=\"http://www.w3.org/2000/svg\"><path d=\"M10.5652 9.23467L8.21819 6.88811C8.89846 6.07141 9.23767 5.02389 9.16527 3.96345C9.09287 2.90302 8.61443 1.91132 7.82948 1.19466C7.04453 0.477995 6.01349 0.0915414 4.95087 0.115691C3.88824 0.139841 2.87583 0.572735 2.12425 1.32432C1.37266 2.0759 0.939768 3.08831 0.915618 4.15094C0.891468 5.21357 1.27792 6.2446 1.99459 7.02955C2.71125 7.8145 3.70295 8.29294 4.76338 8.36535C5.82381 8.43775 6.87134 8.09853 7.68804 7.41827L10.0346 9.7653C10.0694 9.80014 10.1108 9.82778 10.1563 9.84663C10.2018 9.86549 10.2506 9.87519 10.2999 9.87519C10.3492 9.87519 10.398 9.86549 10.4435 9.84663C10.489 9.82778 10.5304 9.80014 10.5652 9.7653C10.6001 9.73046 10.6277 9.68909 10.6466 9.64357C10.6654 9.59805 10.6751 9.54926 10.6751 9.49998C10.6751 9.45071 10.6654 9.40192 10.6466 9.3564C10.6277 9.31088 10.6001 9.26951 10.5652 9.23467ZM1.67491 4.24998C1.67491 3.58247 1.87285 2.92995 2.2437 2.37493C2.61455 1.81992 3.14165 1.38734 3.75835 1.13189C4.37506 0.876446 5.05366 0.809609 5.70834 0.939835C6.36303 1.07006 6.96439 1.3915 7.4364 1.8635C7.9084 2.3355 8.22984 2.93687 8.36006 3.59155C8.49029 4.24624 8.42345 4.92484 8.168 5.54154C7.91256 6.15824 7.47998 6.68535 6.92496 7.05619C6.36995 7.42704 5.71742 7.62498 5.04991 7.62498C4.15511 7.62399 3.29724 7.26809 2.66452 6.63537C2.0318 6.00265 1.6759 5.14479 1.67491 4.24998Z\" fill=\"currentColor\"/></svg>\n",
              "                        <span class='pl-8'>Search</span>\n",
              "                    </button>\n",
              "                </div>\n",
              "\n",
              "                <div><h4 id='total19f659b9d7754813b9884c77ad189305'>0</h4></div>\n",
              "            </div>\n",
              "            <div id='table19f659b9d7754813b9884c77ad189305' class='grid-table19f659b9d7754813b9884c77ad189305' style='margin-top: 25px;'>\n",
              "                <script>\n",
              "                    function paginate19f659b9d7754813b9884c77ad189305(arr, size) {\n",
              "                        const res = [];\n",
              "                        for (let i = 0; i < arr.length; i += size) {\n",
              "                            const chunk = arr.slice(i, i + size);\n",
              "                            res.push(chunk);\n",
              "                        }\n",
              "\n",
              "                        return res;\n",
              "                    }\n",
              "\n",
              "                    function searchGrid19f659b9d7754813b9884c77ad189305(elements){\n",
              "                        let searchKey = document.getElementById('searchKey19f659b9d7754813b9884c77ad189305').value;\n",
              "                        let result;\n",
              "                        if (searchKey === ''){\n",
              "                            result = elements;\n",
              "                        } else {\n",
              "                            result = elements.filter((element) => {\n",
              "                                let property = element[activeFilter19f659b9d7754813b9884c77ad189305]\n",
              "                                if (typeof property === 'object' && property !== null){\n",
              "                                    return property.value.toLowerCase().includes(searchKey.toLowerCase());\n",
              "                                } else if (typeof property === 'string' ) {\n",
              "                                    return element[activeFilter19f659b9d7754813b9884c77ad189305].toLowerCase().includes(searchKey.toLowerCase());\n",
              "                                } else if (property !== null ) {\n",
              "                                    return element[activeFilter19f659b9d7754813b9884c77ad189305].toString() === searchKey;\n",
              "                                } else {\n",
              "                                    return element[activeFilter19f659b9d7754813b9884c77ad189305] === searchKey;\n",
              "                                }\n",
              "                            } );\n",
              "                        }\n",
              "                        resetById19f659b9d7754813b9884c77ad189305('table19f659b9d7754813b9884c77ad189305');\n",
              "                        resetById19f659b9d7754813b9884c77ad189305('pag19f659b9d7754813b9884c77ad189305');\n",
              "                        result = paginate19f659b9d7754813b9884c77ad189305(result, page_size19f659b9d7754813b9884c77ad189305)\n",
              "                        paginatedElements19f659b9d7754813b9884c77ad189305 = result\n",
              "                        buildGrid19f659b9d7754813b9884c77ad189305(result,pageIndex19f659b9d7754813b9884c77ad189305);\n",
              "                        buildPaginationContainer19f659b9d7754813b9884c77ad189305(result);\n",
              "                    }\n",
              "\n",
              "                    function resetById19f659b9d7754813b9884c77ad189305(id){\n",
              "                        let element = document.getElementById(id);\n",
              "                        while (element.firstChild) {\n",
              "                          element.removeChild(element.firstChild);\n",
              "                        }\n",
              "                    }\n",
              "\n",
              "                    function buildGrid19f659b9d7754813b9884c77ad189305(items, pageIndex){\n",
              "                                let headers = Object.keys(element19f659b9d7754813b9884c77ad189305[0]);\n",
              "\n",
              "                                let grid = document.getElementById(\"table19f659b9d7754813b9884c77ad189305\");\n",
              "                                let div = document.createElement(\"div\");\n",
              "                                div.classList.add('grid-header', 'grid-index-cells');\n",
              "                                grid.appendChild(div);\n",
              "                                headers.forEach((title) =>{\n",
              "                                    let div = document.createElement(\"div\");\n",
              "                                    div.classList.add('grid-header', 'grid-std-cells');\n",
              "                                    div.innerText = title;\n",
              "\n",
              "                                    grid.appendChild(div);\n",
              "                                });\n",
              "\n",
              "                                let page = items[pageIndex -1]\n",
              "                                if (page !== 'undefine'){\n",
              "                                    let table_index19f659b9d7754813b9884c77ad189305 = ((pageIndex - 1) * page_size19f659b9d7754813b9884c77ad189305)\n",
              "                                    page.forEach((item) => {\n",
              "                                        let grid = document.getElementById(\"table19f659b9d7754813b9884c77ad189305\");\n",
              "                                        // Add new index value in index cells\n",
              "                                        let divIndex = document.createElement(\"div\");\n",
              "                                        divIndex.classList.add('grid-row', 'grid-index-cells');\n",
              "                                        divIndex.innerText = table_index19f659b9d7754813b9884c77ad189305;\n",
              "                                        grid.appendChild(divIndex);\n",
              "\n",
              "                                        // Iterate over the actual obj\n",
              "                                        for (const attr in item) {\n",
              "                                            let div = document.createElement(\"div\");\n",
              "                                            if (typeof item[attr] === 'object'\n",
              "                                                && item[attr] !== null\n",
              "                                                && item[attr].hasOwnProperty('type')) {\n",
              "                                                if (item[attr].type.includes('badge')){\n",
              "                                                    let badge_div = document.createElement(\"div\");\n",
              "                                                    badge_div.classList.add('badge',item[attr].type)\n",
              "                                                    badge_div.innerText = String(item[attr].value).toUpperCase();\n",
              "                                                    div.appendChild(badge_div);\n",
              "                                                    div.classList.add('grid-row','grid-std-cells');\n",
              "                                                } else if (item[attr].type === \"clipboard\") {\n",
              "                                                    div.classList.add('grid-row','grid-std-cells');\n",
              "\n",
              "                                                    // Create clipboard div\n",
              "                                                    let clipboard_div = document.createElement('div');\n",
              "                                                    clipboard_div.style.display= 'flex';\n",
              "                                                    clipboard_div.classList.add(\"gap-10\")\n",
              "                                                    clipboard_div.style.justifyContent = \"space-between\";\n",
              "\n",
              "                                                    let id_text = document.createElement('div');\n",
              "                                                    if (item[attr].value == \"None\"){\n",
              "                                                        id_text.innerText = \"None\";\n",
              "                                                    }\n",
              "                                                    else{\n",
              "                                                        id_text.innerText = item[attr].value.slice(0,5) + \"...\";\n",
              "                                                    }\n",
              "\n",
              "                                                    clipboard_div.appendChild(id_text);\n",
              "                                                    let clipboard_img = document.createElement('div');\n",
              "                                                    clipboard_img.classList.add(\"clipboard\")\n",
              "                                                    div.onclick = function() {\n",
              "                                                        navigator.clipboard.writeText(item[attr].value);\n",
              "                                                    };\n",
              "                                                    clipboard_img.innerHTML = \"<svg width='8' height='8' viewBox='0 0 8 8' fill='none' xmlns='http://www.w3.org/2000/svg'><path d='M7.4375 0.25H2.4375C2.35462 0.25 2.27513 0.282924 2.21653 0.341529C2.15792 0.400134 2.125 0.47962 2.125 0.5625V2.125H0.5625C0.47962 2.125 0.400134 2.15792 0.341529 2.21653C0.282924 2.27513 0.25 2.35462 0.25 2.4375V7.4375C0.25 7.52038 0.282924 7.59987 0.341529 7.65847C0.400134 7.71708 0.47962 7.75 0.5625 7.75H5.5625C5.64538 7.75 5.72487 7.71708 5.78347 7.65847C5.84208 7.59987 5.875 7.52038 5.875 7.4375V5.875H7.4375C7.52038 5.875 7.59987 5.84208 7.65847 5.78347C7.71708 5.72487 7.75 5.64538 7.75 5.5625V0.5625C7.75 0.47962 7.71708 0.400134 7.65847 0.341529C7.59987 0.282924 7.52038 0.25 7.4375 0.25ZM5.25 7.125H0.875V2.75H5.25V7.125ZM7.125 5.25H5.875V2.4375C5.875 2.35462 5.84208 2.27513 5.78347 2.21653C5.72487 2.15792 5.64538 2.125 5.5625 2.125H2.75V0.875H7.125V5.25Z' fill='#464158'/></svg>\";\n",
              "\n",
              "                                                    clipboard_div.appendChild(clipboard_img);\n",
              "                                                    div.appendChild(clipboard_div);\n",
              "                                                }\n",
              "                                            } else{\n",
              "                                                div.classList.add('grid-row','grid-std-cells');\n",
              "                                                if (item[attr] == null) {\n",
              "                                                    text = ' '\n",
              "                                                } else {\n",
              "                                                    text = String(item[attr])\n",
              "                                                }\n",
              "                                                if (text.length > 150){\n",
              "                                                    text = text.slice(0,150) + \"...\";\n",
              "                                                }\n",
              "                                                text = text.replaceAll(\"\\n\", \"</br>\");\n",
              "                                                div.innerHTML = text;\n",
              "                                            }\n",
              "                                            grid.appendChild(div);\n",
              "                                        }\n",
              "                                    table_index19f659b9d7754813b9884c77ad189305 = table_index19f659b9d7754813b9884c77ad189305 + 1;\n",
              "                                    })\n",
              "                                }\n",
              "                    }\n",
              "                    paginatedElements19f659b9d7754813b9884c77ad189305 = paginate19f659b9d7754813b9884c77ad189305(element19f659b9d7754813b9884c77ad189305, page_size19f659b9d7754813b9884c77ad189305)\n",
              "                    buildGrid19f659b9d7754813b9884c77ad189305(paginatedElements19f659b9d7754813b9884c77ad189305, 1)\n",
              "                    document.getElementById('total19f659b9d7754813b9884c77ad189305').innerText = \"Total: \" + element19f659b9d7754813b9884c77ad189305.length\n",
              "                </script>\n",
              "            </div>\n",
              "            <div id='pag19f659b9d7754813b9884c77ad189305' class='paginationContainer'>\n",
              "                <script>\n",
              "                    function buildPaginationContainer19f659b9d7754813b9884c77ad189305(paginatedElements){\n",
              "                            let pageContainer = document.getElementById(\"pag19f659b9d7754813b9884c77ad189305\");\n",
              "                            for (let i = 0; i < paginatedElements.length; i++) {\n",
              "                                  let div = document.createElement(\"div\");\n",
              "                                  div.classList.add('page');\n",
              "                                  if(i===0) div.style.color = \"gray\";\n",
              "                                  else div.style.color = 'var(--tertiary-color, \"gray\")';\n",
              "                                  div.onclick = function(event) {\n",
              "                                      let indexes = document.getElementsByClassName('page');\n",
              "                                      for (let index of indexes) { index.style.color = 'var(--tertiary-color, \"gray\")' }\n",
              "                                      event.target.style.color = \"gray\";\n",
              "                                      setPage19f659b9d7754813b9884c77ad189305(i + 1);\n",
              "                                  };\n",
              "                                  div.innerText = i + 1;\n",
              "                                  pageContainer.appendChild(div);\n",
              "                            }\n",
              "                    }\n",
              "\n",
              "                    function setPage19f659b9d7754813b9884c77ad189305(newPage){\n",
              "                        pageIndex = newPage\n",
              "                        resetById19f659b9d7754813b9884c77ad189305('table19f659b9d7754813b9884c77ad189305')\n",
              "                        buildGrid19f659b9d7754813b9884c77ad189305(paginatedElements19f659b9d7754813b9884c77ad189305, pageIndex)\n",
              "                    }\n",
              "\n",
              "                    buildPaginationContainer19f659b9d7754813b9884c77ad189305(paginatedElements19f659b9d7754813b9884c77ad189305)\n",
              "                </script>\n",
              "            </div>\n",
              "        </div>\n",
              "    </div>\n",
              "    </div>\n"
            ],
            "text/plain": [
              "<syft.client.api.APIModule at 0x1d09a8f1390>"
            ]
          },
          "execution_count": 5,
          "metadata": {},
          "output_type": "execute_result"
        }
      ],
      "source": [
        "# Accede al espacio de código del Data Scientist dentro del dominio PySyft.\n",
        "# Esto permite al DS ver y gestionar el código que ha enviado para ejecución,\n",
        "# incluyendo solicitudes de código, funciones definidas y cualquier resultado de código ejecutado por el DO.\n",
        "ds_client.code"
      ]
    },
    {
      "cell_type": "code",
      "execution_count": null,
      "id": "608507ac",
      "metadata": {
        "id": "608507ac"
      },
      "outputs": [],
      "source": [
        "# El DS recupera los resultados del entrenamiento ejecutado por el DO.\n",
        "result = ds_client.code.mnist_3_linear_layers(mnist_images=training_images, mnist_labels=training_labels)"
      ]
    },
    {
      "cell_type": "code",
      "execution_count": null,
      "id": "4230b2ac",
      "metadata": {
        "id": "4230b2ac"
      },
      "outputs": [],
      "source": [
        "# Recupera los resultados del entrenamiento ejecutado por el DO desde el dominio PySyft.\n",
        "# 'train_accs' contiene las precisiones de entrenamiento para cada época, mostrando cómo mejoró el modelo a lo largo del tiempo.\n",
        "# 'params' contiene los parámetros finales del modelo (pesos y sesgos) después de completar el entrenamiento.\n",
        "train_accs, params = result.get_from(ds_client)\n"
      ]
    },
    {
      "cell_type": "code",
      "execution_count": null,
      "id": "ce0fc0ca",
      "metadata": {
        "id": "ce0fc0ca",
        "outputId": "9aba0b85-202d-4fcf-e357-570cdf00253e"
      },
      "outputs": [
        {
          "data": {
            "text/html": [
              "[Array(0.99700004, dtype=float32)]"
            ],
            "text/plain": [
              "[Array(0.99700004, dtype=float32)]"
            ]
          },
          "execution_count": 8,
          "metadata": {},
          "output_type": "execute_result"
        }
      ],
      "source": [
        "assert isinstance(train_accs, list)\n",
        "train_accs"
      ]
    },
    {
      "cell_type": "code",
      "execution_count": null,
      "id": "534a5d29",
      "metadata": {
        "id": "534a5d29",
        "outputId": "c7d42ab3-cfe8-4fd3-ac40-6772dab6062f"
      },
      "outputs": [
        {
          "data": {
            "text/html": [
              "[((784, 1024), (1024,)), (), ((1024, 1024), (1024,)), (), ((1024, 10), (10,)), ()]"
            ],
            "text/plain": [
              "[((784, 1024), (1024,)),\n",
              " (),\n",
              " ((1024, 1024), (1024,)),\n",
              " (),\n",
              " ((1024, 10), (10,)),\n",
              " ()]"
            ]
          },
          "execution_count": 9,
          "metadata": {},
          "output_type": "execute_result"
        }
      ],
      "source": [
        "# Verifica que los parámetros del modelo ('params') recuperados sean una lista, asegurando que la estructura de datos es la esperada.\n",
        "assert isinstance(params, list)\n",
        "\n",
        "# Utiliza 'jax.tree_map' para aplicar una función lambda a cada elemento en la estructura de 'params'.\n",
        "# La función lambda extrae la forma ('shape') de cada parámetro del modelo, proporcionando una visión clara de las dimensiones de los parámetros.\n",
        "jax.tree_map(lambda x: x.shape, params)\n"
      ]
    },
    {
      "cell_type": "markdown",
      "id": "0a13490c",
      "metadata": {
        "id": "0a13490c"
      },
      "source": [
        "## Teniendo los pesos entrenados, el DS puede realizar inferencias en su conjunto de datos de prueba MNIST"
      ]
    },
    {
      "cell_type": "code",
      "execution_count": null,
      "id": "4e59f215",
      "metadata": {
        "id": "4e59f215"
      },
      "outputs": [],
      "source": [
        "# Carga el conjunto de datos de prueba MNIST.\n",
        "# Esta operación extrae únicamente las imágenes y etiquetas de prueba,\n",
        "# omitiendo los conjuntos de datos de entrenamiento mediante el uso de '_'.\n",
        "# Se asume que este conjunto de datos de prueba es accesible y puede ser utilizado por el DS\n",
        "# para evaluar el rendimiento del modelo en datos no vistos.\n",
        "_, _, test_images, test_labels = mnist()\n",
        "\n",
        "_, _, test_images, test_labels = mnist()"
      ]
    },
    {
      "cell_type": "code",
      "execution_count": null,
      "id": "e3b9f190",
      "metadata": {
        "id": "e3b9f190"
      },
      "outputs": [],
      "source": [
        "assert test_images.shape == (10000, 784)  # Asegura que las dimensiones de las imágenes de prueba son correctas.\n",
        "assert test_labels.shape == (10000, 10)  # Asegura que las dimensiones de las etiquetas de prueba son correctas.\n"
      ]
    },
    {
      "cell_type": "markdown",
      "id": "affa2c8e",
      "metadata": {
        "id": "affa2c8e"
      },
      "source": [
        "#### Define the neural network and the accuracy function"
      ]
    },
    {
      "cell_type": "code",
      "execution_count": null,
      "id": "acafec50",
      "metadata": {
        "id": "acafec50"
      },
      "outputs": [],
      "source": [
        "# Inicializa la arquitectura de la red neuronal utilizando la API stax de JAX.\n",
        "# La red consta de una secuencia de capas definida por 'stax.serial':\n",
        "# 1. Una capa densa con 1024 unidades seguida de una función de activación ReLU.\n",
        "# 2. Otra capa densa con 1024 unidades seguida de una función de activación ReLU.\n",
        "# 3. Una capa de salida densa con 10 unidades (una por cada clase de dígito MNIST)\n",
        "#    que utiliza LogSoftmax para obtener las probabilidades logarítmicas.\n",
        "# 'init_random_params' se utilizará para inicializar los parámetros de la red de forma aleatoria,\n",
        "# y 'predict' será la función para realizar predicciones con la red.\n",
        "init_random_params, predict = stax.serial(\n",
        "    Dense(1024), Relu,\n",
        "    Dense(1024), Relu,\n",
        "    Dense(10), LogSoftmax)\n",
        "\n"
      ]
    },
    {
      "cell_type": "code",
      "execution_count": null,
      "id": "b18e8c14",
      "metadata": {
        "id": "b18e8c14"
      },
      "outputs": [],
      "source": [
        "# Define una función para calcular la precisión del modelo.\n",
        "# La precisión se calcula como el promedio de predicciones correctas.\n",
        "# Parámetros:\n",
        "# - 'params': los parámetros actuales de la red neuronal (pesos y sesgos).\n",
        "# - 'batch': un lote de datos que contiene 'inputs' (imágenes) y 'targets' (etiquetas verdaderas).\n",
        "# Proceso:\n",
        "# 1. 'inputs' y 'targets' se extraen del lote.\n",
        "# 2. Se calcula la clase predicha por el modelo para cada entrada utilizando 'predict'.\n",
        "# 3. Se identifica la clase real de cada etiqueta mediante 'argmax', que devuelve el índice de la máxima probabilidad.\n",
        "# 4. Se calcula la precisión como el promedio de coincidencias entre clases predichas y reales.\n",
        "def accuracy(params, batch):\n",
        "    inputs, targets = batch\n",
        "    target_class = jnp.argmax(targets, axis=1)  # Clase real\n",
        "    predicted_class = jnp.argmax(predict(params, inputs), axis=1)  # Clase predicha\n",
        "    return jnp.mean(predicted_class == target_class)  # Promedio de aciertos\n"
      ]
    },
    {
      "cell_type": "markdown",
      "id": "3d77ba8b",
      "metadata": {
        "id": "3d77ba8b"
      },
      "source": [
        "#### Test de inferencia usando pesos aleatorios."
      ]
    },
    {
      "cell_type": "code",
      "execution_count": null,
      "id": "a4f8dfe7",
      "metadata": {
        "id": "a4f8dfe7",
        "outputId": "1ddaa166-4f7f-4921-da6f-9c9b0a8bcc9e"
      },
      "outputs": [
        {
          "name": "stdout",
          "output_type": "stream",
          "text": [
            "Precisión del conjunto de prueba con pesos aleatorios =  8.68%\n"
          ]
        }
      ],
      "source": [
        "# Genera una clave de números pseudoaleatorios para inicializar los parámetros de la red.\n",
        "rng = random.PRNGKey(0)\n",
        "\n",
        "# Inicializa los parámetros de la red de forma aleatoria para evaluar el comportamiento base del modelo.\n",
        "# La forma de entrada (-1, 28 * 28) indica que la red espera imágenes de 28x28 píxeles aplanadas.\n",
        "_, random_params = init_random_params(rng, (-1, 28 * 28))\n",
        "\n",
        "# Evalúa la precisión del modelo con pesos aleatorios en el conjunto de datos de prueba MNIST.\n",
        "# Esto proporciona una línea base para entender el rendimiento del modelo sin entrenamiento.\n",
        "test_acc = accuracy(random_params, (test_images, test_labels))\n",
        "\n",
        "# Imprime la precisión del conjunto de prueba utilizando los pesos aleatorios,\n",
        "# convirtiéndola en un porcentaje para una interpretación más clara.\n",
        "print(f\"Precisión del conjunto de prueba con pesos aleatorios = {test_acc * 100 : .2f}%\")\n"
      ]
    },
    {
      "cell_type": "markdown",
      "id": "84fdb333",
      "metadata": {
        "id": "84fdb333"
      },
      "source": [
        "#### Prueba de inferencia utilizando los pesos entrenados recibidos del DO."
      ]
    },
    {
      "cell_type": "code",
      "execution_count": null,
      "id": "f639091d",
      "metadata": {
        "id": "f639091d",
        "outputId": "29245efd-e065-4992-8929-61e1d2000c56"
      },
      "outputs": [
        {
          "name": "stdout",
          "output_type": "stream",
          "text": [
            "Precisión del conjunto de prueba con pesos entrenados =  88.08%\n"
          ]
        }
      ],
      "source": [
        "# Evalúa la precisión del modelo en el conjunto de datos de prueba MNIST utilizando los pesos entrenados recibidos del DO.\n",
        "# 'params' contiene los pesos y sesgos optimizados del modelo después del entrenamiento.\n",
        "# 'test_images' y 'test_labels' son las imágenes y etiquetas del conjunto de prueba, respectivamente.\n",
        "test_acc = accuracy(params, (test_images, test_labels))\n",
        "\n",
        "# Imprime la precisión del conjunto de prueba, convirtiendo el valor a porcentaje para facilitar su interpretación.\n",
        "# Esta precisión refleja el rendimiento del modelo en datos no vistos después de haber sido entrenado,\n",
        "# proporcionando una medida de la capacidad del modelo para generalizar.\n",
        "print(f\"Precisión del conjunto de prueba con pesos entrenados = {test_acc * 100 : .2f}%\")\n"
      ]
    },
    {
      "cell_type": "code",
      "execution_count": null,
      "id": "8ab89348",
      "metadata": {
        "id": "8ab89348",
        "outputId": "65c240e0-d986-45b8-d3ff-7a5b506048dc"
      },
      "outputs": [
        {
          "name": "stdout",
          "output_type": "stream",
          "text": [
            "Precisión del conjunto de prueba con pesos entrenados =  88.08%\n"
          ]
        }
      ],
      "source": [
        "# Evalúa la precisión del modelo en el conjunto de datos de prueba MNIST utilizando los pesos entrenados recibidos del DO.\n",
        "# 'params' contiene los pesos y sesgos optimizados del modelo después del entrenamiento.\n",
        "# 'test_images' y 'test_labels' son las imágenes y etiquetas del conjunto de prueba, respectivamente.\n",
        "test_acc = accuracy(params, (test_images, test_labels))\n",
        "\n",
        "# Imprime la precisión del conjunto de prueba, convirtiendo el valor a porcentaje para facilitar su interpretación.\n",
        "# Esta precisión refleja el rendimiento del modelo en datos no vistos después de haber sido entrenado,\n",
        "# proporcionando una medida de la capacidad del modelo para generalizar.\n",
        "print(f\"Precisión del conjunto de prueba con pesos entrenados = {test_acc * 100 : .2f}%\")\n"
      ]
    },
    {
      "cell_type": "code",
      "execution_count": null,
      "id": "3305ca3e",
      "metadata": {
        "id": "3305ca3e",
        "outputId": "b19c80c9-2a15-4b87-eebb-950dd767305b"
      },
      "outputs": [
        {
          "name": "stdout",
          "output_type": "stream",
          "text": [
            "Test set accuracy with trained weights =  88.08%\n"
          ]
        }
      ],
      "source": [
        "test_acc = accuracy(params, (test_images, test_labels))\n",
        "print(f\"Test set accuracy with trained weights = {test_acc * 100 : .2f}%\")"
      ]
    },
    {
      "cell_type": "markdown",
      "id": "15b5f5f6",
      "metadata": {
        "id": "15b5f5f6"
      },
      "source": [
        "La precisión del 88.08% alcanzada por el modelo en el conjunto de datos de prueba MNIST, tras haber sido entrenado con los pesos proporcionados por el Data Owner (DO), refleja un nivel de rendimiento notablemente bueno, indicativo de que el modelo ha logrado captar y aprender eficazmente los patrones subyacentes en los datos de entrenamiento. Este nivel de precisión demuestra que el modelo no solo ha asimilado las características específicas de los datos de entrenamiento, sino que también ha desarrollado la capacidad de generalizar correctamente a nuevos datos, un aspecto fundamental para la aplicación práctica de modelos de aprendizaje automático. El hecho de que el modelo logre una precisión significativamente superior a lo que se esperaría de un modelo con pesos inicializados de manera aleatoria subraya la eficacia del entrenamiento y el aprendizaje que ha tenido lugar.\n",
        "\n",
        "Sin embargo, es importante reconocer que, aunque el resultado es prometedor, aún existe margen para la mejora y optimización del modelo. Estrategias adicionales como el ajuste meticuloso de hiperparámetros, la implementación de técnicas avanzadas de regularización como la normalización por lotes, y el aprovechamiento de métodos de aumento de datos podrían contribuir a elevar aún más la precisión del modelo. Estas técnicas pueden ayudar a mitigar el sobreajuste, mejorar la robustez del modelo y aumentar su capacidad para captar la variabilidad inherente a los datos de entrada.\n"
      ]
    }
  ],
  "metadata": {
    "kernelspec": {
      "display_name": "Python 3 (ipykernel)",
      "language": "python",
      "name": "python3"
    },
    "language_info": {
      "codemirror_mode": {
        "name": "ipython",
        "version": 3
      },
      "file_extension": ".py",
      "mimetype": "text/x-python",
      "name": "python",
      "nbconvert_exporter": "python",
      "pygments_lexer": "ipython3",
      "version": "3.11.3"
    },
    "colab": {
      "provenance": [],
      "include_colab_link": true
    }
  },
  "nbformat": 4,
  "nbformat_minor": 5
}